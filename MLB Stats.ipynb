{
 "cells": [
  {
   "cell_type": "markdown",
   "id": "23600bc6",
   "metadata": {},
   "source": [
    "IMPORT "
   ]
  },
  {
   "cell_type": "code",
   "execution_count": 37,
   "id": "5fb148cc",
   "metadata": {},
   "outputs": [],
   "source": [
    "import pandas as pd\n",
    "import numpy as np\n",
    "import matplotlib as plt\n",
    "import seaborn as sns"
   ]
  },
  {
   "cell_type": "markdown",
   "id": "b49c6741",
   "metadata": {},
   "source": [
    "READ CSV FILES"
   ]
  },
  {
   "cell_type": "code",
   "execution_count": 38,
   "id": "069646b9",
   "metadata": {},
   "outputs": [],
   "source": [
    "games = pd.read_csv('games.csv')\n",
    "player = pd.read_csv('player_names.csv')\n",
    "pitches = pd.read_csv('pitches.csv')\n",
    "at_bats = pd.read_csv('atbats.csv')"
   ]
  },
  {
   "cell_type": "markdown",
   "id": "5ae57d37",
   "metadata": {},
   "source": [
    "HEAD OF EACH df"
   ]
  },
  {
   "cell_type": "code",
   "execution_count": 39,
   "id": "3f6cd30a",
   "metadata": {},
   "outputs": [],
   "source": [
    "#games.head()"
   ]
  },
  {
   "cell_type": "code",
   "execution_count": 40,
   "id": "6040244a",
   "metadata": {},
   "outputs": [],
   "source": [
    "#player.head()"
   ]
  },
  {
   "cell_type": "code",
   "execution_count": 41,
   "id": "b9fc3263",
   "metadata": {},
   "outputs": [],
   "source": [
    "#pitches.head()"
   ]
  },
  {
   "cell_type": "code",
   "execution_count": 42,
   "id": "1795825f",
   "metadata": {},
   "outputs": [],
   "source": [
    "#at_bats.head()"
   ]
  },
  {
   "cell_type": "markdown",
   "id": "92fd4982",
   "metadata": {},
   "source": [
    "CHECK DATA TYPES OF FILES"
   ]
  },
  {
   "cell_type": "code",
   "execution_count": 43,
   "id": "d1122abc",
   "metadata": {},
   "outputs": [],
   "source": [
    "#games.dtypes"
   ]
  },
  {
   "cell_type": "code",
   "execution_count": 44,
   "id": "566c8e43",
   "metadata": {},
   "outputs": [],
   "source": [
    "#player.dtypes"
   ]
  },
  {
   "cell_type": "code",
   "execution_count": 45,
   "id": "5151a324",
   "metadata": {},
   "outputs": [],
   "source": [
    "#pitches.dtypes"
   ]
  },
  {
   "cell_type": "code",
   "execution_count": 46,
   "id": "9e7b7518",
   "metadata": {},
   "outputs": [],
   "source": [
    "#at_bats.dtypes"
   ]
  },
  {
   "cell_type": "code",
   "execution_count": 47,
   "id": "e86fec4e",
   "metadata": {},
   "outputs": [],
   "source": [
    "#change pitches['ab_id'] to int because it is int in at_bats df\n",
    "pitches['ab_id'] = pitches['ab_id'].astype(int) "
   ]
  },
  {
   "cell_type": "code",
   "execution_count": 48,
   "id": "4f5ff177",
   "metadata": {},
   "outputs": [],
   "source": [
    "#rename the id in player df to batter_id because they are same as batter_id in at_bats df\n",
    "player.rename(columns={'id':'batter_id'},inplace=True)\n",
    "#pitches.head()"
   ]
  },
  {
   "cell_type": "markdown",
   "id": "49de68b6",
   "metadata": {},
   "source": [
    "MERGE DOCUMENTS"
   ]
  },
  {
   "cell_type": "code",
   "execution_count": 49,
   "id": "1f5e90a2",
   "metadata": {},
   "outputs": [],
   "source": [
    "df1 = pd.merge(pitches, at_bats,  how='left', left_on='ab_id', right_on = 'ab_id')\n",
    "#df1.head()"
   ]
  },
  {
   "cell_type": "code",
   "execution_count": 50,
   "id": "f64b8687",
   "metadata": {},
   "outputs": [],
   "source": [
    "df2 = pd.merge(df1, games, how ='left', left_on='g_id', right_on = 'g_id')\n",
    "#df2.head()"
   ]
  },
  {
   "cell_type": "code",
   "execution_count": 51,
   "id": "2b67448f",
   "metadata": {},
   "outputs": [],
   "source": [
    "df3 = pd.merge(df2,player, how='left', left_on='batter_id',right_on='batter_id')\n",
    "#df3.head()"
   ]
  },
  {
   "cell_type": "code",
   "execution_count": 52,
   "id": "e38c509a",
   "metadata": {},
   "outputs": [],
   "source": [
    "#concatinate the first name and last name\n",
    "df3['Batter name'] = df3[['first_name','last_name']].apply(lambda x:''.join(x),axis=1)"
   ]
  },
  {
   "cell_type": "code",
   "execution_count": 53,
   "id": "3e32e437",
   "metadata": {},
   "outputs": [],
   "source": [
    "#drop the first name and last name\n",
    "df3.drop(['first_name','last_name'],axis=1,inplace=True)"
   ]
  },
  {
   "cell_type": "code",
   "execution_count": 54,
   "id": "6ceb7072",
   "metadata": {},
   "outputs": [],
   "source": [
    "player.rename(columns={'batter_id':'pitcher_id'}, inplace=True)"
   ]
  },
  {
   "cell_type": "markdown",
   "id": "74c36240",
   "metadata": {},
   "source": [
    "CREATE MASTER FILE"
   ]
  },
  {
   "cell_type": "code",
   "execution_count": 55,
   "id": "8b860955",
   "metadata": {},
   "outputs": [],
   "source": [
    "master = pd.merge(df3,player, how='left', left_on='pitcher_id',right_on='pitcher_id')\n",
    "#master.head()"
   ]
  },
  {
   "cell_type": "code",
   "execution_count": 56,
   "id": "e2aaf468",
   "metadata": {},
   "outputs": [],
   "source": [
    "#concatinate the first name and last name \n",
    "master['pitcher_name'] = master[['first_name','last_name']].apply(lambda x:' '.join(x),axis=1)"
   ]
  },
  {
   "cell_type": "markdown",
   "id": "1e2902ca",
   "metadata": {},
   "source": [
    "CALCULATE ERA"
   ]
  },
  {
   "cell_type": "code",
   "execution_count": 57,
   "id": "e1cad631",
   "metadata": {},
   "outputs": [],
   "source": [
    "master['pitch_type'] = master['pitch_type'].map({'FF': 'Four Seam Fastball', 'SL': 'Slider', 'FT': 'Two seam fastball', 'CH': 'Changeup', 'SI': 'Sinker', 'CU': 'Curveball', 'FC': 'Cutter', 'KC': 'Knuckle Curve', 'FS': 'Splitter','KN': 'Knuckleball', 'EP': 'Eephus', 'FO': 'Pitch Out', 'PO': 'Pitch Out', 'SC': 'Screwball', 'UN': 'Unidentified', 'FA': 'Fastball', 'IN': 'Intentional Ball'})"
   ]
  },
  {
   "cell_type": "code",
   "execution_count": 58,
   "id": "75c9b6d4",
   "metadata": {},
   "outputs": [],
   "source": [
    "#master['pitch_type']"
   ]
  },
  {
   "cell_type": "code",
   "execution_count": 59,
   "id": "d958fca9",
   "metadata": {},
   "outputs": [],
   "source": [
    "#creating the legend corresponding the the pitch_type\n",
    "master['code'] = master['code'].map({'B': 'Ball', '*B': 'Ball in dirt', 'S': 'Swinging Strike', 'C': 'Called Strike', 'F': 'Foul', 'T': 'Foul Tip', 'L': 'Foul Bunt', 'I': 'Intentional Ball', 'W': 'Blocked','M': 'Missed Bunt', 'P': 'Pitch Out', 'Q': 'Swinging Pitch Out', 'R': 'Foul Pitch Out', 'X': 'In play out(s)', 'D': 'In play no out', 'E': 'In play runs'})"
   ]
  },
  {
   "cell_type": "code",
   "execution_count": 60,
   "id": "e05a4e63",
   "metadata": {},
   "outputs": [],
   "source": [
    "#group the pitcher counts by pitcher name and s_count\n",
    "pitcher_group = master.groupby(['pitcher_name'])[['s_count']].sum()"
   ]
  },
  {
   "cell_type": "code",
   "execution_count": 61,
   "id": "6a5d9481",
   "metadata": {},
   "outputs": [],
   "source": [
    "ERA = pitcher_group.s_count / len(master)"
   ]
  },
  {
   "cell_type": "code",
   "execution_count": 69,
   "id": "ceb9ca05",
   "metadata": {},
   "outputs": [
    {
     "data": {
      "text/plain": [
       "pitcher_name\n",
       "Max Scherzer        4.558876e-03\n",
       "Justin Verlander    4.323102e-03\n",
       "Chris Sale          4.259276e-03\n",
       "Jose Quintana       4.195798e-03\n",
       "Chris Archer        4.044429e-03\n",
       "                        ...     \n",
       "Phillip Ervin       3.487779e-07\n",
       "Mark Reynolds       0.000000e+00\n",
       "Tyler Moore         0.000000e+00\n",
       "Anthony Rizzo       0.000000e+00\n",
       "Alexi Amarista      0.000000e+00\n",
       "Name: s_count, Length: 1330, dtype: float64"
      ]
     },
     "execution_count": 69,
     "metadata": {},
     "output_type": "execute_result"
    }
   ],
   "source": [
    "ERA.sort_values(ascending=False)"
   ]
  },
  {
   "cell_type": "code",
   "execution_count": 91,
   "id": "c91c378b",
   "metadata": {},
   "outputs": [
    {
     "data": {
      "text/html": [
       "<div>\n",
       "<style scoped>\n",
       "    .dataframe tbody tr th:only-of-type {\n",
       "        vertical-align: middle;\n",
       "    }\n",
       "\n",
       "    .dataframe tbody tr th {\n",
       "        vertical-align: top;\n",
       "    }\n",
       "\n",
       "    .dataframe thead th {\n",
       "        text-align: right;\n",
       "    }\n",
       "</style>\n",
       "<table border=\"1\" class=\"dataframe\">\n",
       "  <thead>\n",
       "    <tr style=\"text-align: right;\">\n",
       "      <th></th>\n",
       "      <th>px</th>\n",
       "      <th>pz</th>\n",
       "      <th>start_speed</th>\n",
       "      <th>end_speed</th>\n",
       "      <th>spin_rate</th>\n",
       "      <th>spin_dir</th>\n",
       "      <th>break_angle</th>\n",
       "      <th>break_length</th>\n",
       "      <th>break_y</th>\n",
       "      <th>ax</th>\n",
       "      <th>...</th>\n",
       "      <th>umpire_3B</th>\n",
       "      <th>umpire_HP</th>\n",
       "      <th>venue_name</th>\n",
       "      <th>weather</th>\n",
       "      <th>wind</th>\n",
       "      <th>delay</th>\n",
       "      <th>Batter name</th>\n",
       "      <th>first_name</th>\n",
       "      <th>last_name</th>\n",
       "      <th>pitcher_name</th>\n",
       "    </tr>\n",
       "  </thead>\n",
       "  <tbody>\n",
       "    <tr>\n",
       "      <th>103382</th>\n",
       "      <td>-0.641</td>\n",
       "      <td>2.141</td>\n",
       "      <td>94.1</td>\n",
       "      <td>85.7</td>\n",
       "      <td>2229.532</td>\n",
       "      <td>190.205</td>\n",
       "      <td>12.7</td>\n",
       "      <td>2.9</td>\n",
       "      <td>23.7</td>\n",
       "      <td>-3.750</td>\n",
       "      <td>...</td>\n",
       "      <td>Marvin Hudson</td>\n",
       "      <td>Chad Fairchild</td>\n",
       "      <td>Target Field</td>\n",
       "      <td>76 degrees, partly cloudy</td>\n",
       "      <td>4 mph, In from RF</td>\n",
       "      <td>0</td>\n",
       "      <td>JBShuck</td>\n",
       "      <td>Ryan</td>\n",
       "      <td>Pressly</td>\n",
       "      <td>Ryan Pressly</td>\n",
       "    </tr>\n",
       "    <tr>\n",
       "      <th>103383</th>\n",
       "      <td>1.713</td>\n",
       "      <td>1.465</td>\n",
       "      <td>93.2</td>\n",
       "      <td>85.1</td>\n",
       "      <td>2288.025</td>\n",
       "      <td>189.012</td>\n",
       "      <td>6.0</td>\n",
       "      <td>2.9</td>\n",
       "      <td>23.7</td>\n",
       "      <td>-3.363</td>\n",
       "      <td>...</td>\n",
       "      <td>Marvin Hudson</td>\n",
       "      <td>Chad Fairchild</td>\n",
       "      <td>Target Field</td>\n",
       "      <td>76 degrees, partly cloudy</td>\n",
       "      <td>4 mph, In from RF</td>\n",
       "      <td>0</td>\n",
       "      <td>JBShuck</td>\n",
       "      <td>Ryan</td>\n",
       "      <td>Pressly</td>\n",
       "      <td>Ryan Pressly</td>\n",
       "    </tr>\n",
       "    <tr>\n",
       "      <th>103384</th>\n",
       "      <td>0.024</td>\n",
       "      <td>2.511</td>\n",
       "      <td>94.7</td>\n",
       "      <td>86.8</td>\n",
       "      <td>2177.750</td>\n",
       "      <td>228.377</td>\n",
       "      <td>35.0</td>\n",
       "      <td>5.1</td>\n",
       "      <td>23.8</td>\n",
       "      <td>-15.548</td>\n",
       "      <td>...</td>\n",
       "      <td>Marvin Hudson</td>\n",
       "      <td>Chad Fairchild</td>\n",
       "      <td>Target Field</td>\n",
       "      <td>76 degrees, partly cloudy</td>\n",
       "      <td>4 mph, In from RF</td>\n",
       "      <td>0</td>\n",
       "      <td>JBShuck</td>\n",
       "      <td>Ryan</td>\n",
       "      <td>Pressly</td>\n",
       "      <td>Ryan Pressly</td>\n",
       "    </tr>\n",
       "    <tr>\n",
       "      <th>103385</th>\n",
       "      <td>-1.035</td>\n",
       "      <td>3.009</td>\n",
       "      <td>95.1</td>\n",
       "      <td>86.6</td>\n",
       "      <td>1940.007</td>\n",
       "      <td>187.651</td>\n",
       "      <td>7.3</td>\n",
       "      <td>3.2</td>\n",
       "      <td>23.7</td>\n",
       "      <td>-2.481</td>\n",
       "      <td>...</td>\n",
       "      <td>Marvin Hudson</td>\n",
       "      <td>Chad Fairchild</td>\n",
       "      <td>Target Field</td>\n",
       "      <td>76 degrees, partly cloudy</td>\n",
       "      <td>4 mph, In from RF</td>\n",
       "      <td>0</td>\n",
       "      <td>MelkyCabrera</td>\n",
       "      <td>Ryan</td>\n",
       "      <td>Pressly</td>\n",
       "      <td>Ryan Pressly</td>\n",
       "    </tr>\n",
       "    <tr>\n",
       "      <th>103386</th>\n",
       "      <td>0.410</td>\n",
       "      <td>2.843</td>\n",
       "      <td>94.7</td>\n",
       "      <td>86.9</td>\n",
       "      <td>2105.800</td>\n",
       "      <td>184.932</td>\n",
       "      <td>2.2</td>\n",
       "      <td>2.8</td>\n",
       "      <td>23.8</td>\n",
       "      <td>-1.730</td>\n",
       "      <td>...</td>\n",
       "      <td>Marvin Hudson</td>\n",
       "      <td>Chad Fairchild</td>\n",
       "      <td>Target Field</td>\n",
       "      <td>76 degrees, partly cloudy</td>\n",
       "      <td>4 mph, In from RF</td>\n",
       "      <td>0</td>\n",
       "      <td>MelkyCabrera</td>\n",
       "      <td>Ryan</td>\n",
       "      <td>Pressly</td>\n",
       "      <td>Ryan Pressly</td>\n",
       "    </tr>\n",
       "  </tbody>\n",
       "</table>\n",
       "<p>5 rows × 70 columns</p>\n",
       "</div>"
      ],
      "text/plain": [
       "           px     pz  start_speed  end_speed  spin_rate  spin_dir  \\\n",
       "103382 -0.641  2.141         94.1       85.7   2229.532   190.205   \n",
       "103383  1.713  1.465         93.2       85.1   2288.025   189.012   \n",
       "103384  0.024  2.511         94.7       86.8   2177.750   228.377   \n",
       "103385 -1.035  3.009         95.1       86.6   1940.007   187.651   \n",
       "103386  0.410  2.843         94.7       86.9   2105.800   184.932   \n",
       "\n",
       "        break_angle  break_length  break_y      ax  ...      umpire_3B  \\\n",
       "103382         12.7           2.9     23.7  -3.750  ...  Marvin Hudson   \n",
       "103383          6.0           2.9     23.7  -3.363  ...  Marvin Hudson   \n",
       "103384         35.0           5.1     23.8 -15.548  ...  Marvin Hudson   \n",
       "103385          7.3           3.2     23.7  -2.481  ...  Marvin Hudson   \n",
       "103386          2.2           2.8     23.8  -1.730  ...  Marvin Hudson   \n",
       "\n",
       "             umpire_HP    venue_name                    weather  \\\n",
       "103382  Chad Fairchild  Target Field  76 degrees, partly cloudy   \n",
       "103383  Chad Fairchild  Target Field  76 degrees, partly cloudy   \n",
       "103384  Chad Fairchild  Target Field  76 degrees, partly cloudy   \n",
       "103385  Chad Fairchild  Target Field  76 degrees, partly cloudy   \n",
       "103386  Chad Fairchild  Target Field  76 degrees, partly cloudy   \n",
       "\n",
       "                     wind  delay   Batter name  first_name  last_name  \\\n",
       "103382  4 mph, In from RF      0       JBShuck        Ryan    Pressly   \n",
       "103383  4 mph, In from RF      0       JBShuck        Ryan    Pressly   \n",
       "103384  4 mph, In from RF      0       JBShuck        Ryan    Pressly   \n",
       "103385  4 mph, In from RF      0  MelkyCabrera        Ryan    Pressly   \n",
       "103386  4 mph, In from RF      0  MelkyCabrera        Ryan    Pressly   \n",
       "\n",
       "        pitcher_name  \n",
       "103382  Ryan Pressly  \n",
       "103383  Ryan Pressly  \n",
       "103384  Ryan Pressly  \n",
       "103385  Ryan Pressly  \n",
       "103386  Ryan Pressly  \n",
       "\n",
       "[5 rows x 70 columns]"
      ]
     },
     "execution_count": 91,
     "metadata": {},
     "output_type": "execute_result"
    }
   ],
   "source": [
    "#create a seperate varable to pull his name out\n",
    "Ryan = master[master['pitcher_name']=='Ryan Pressly']\n",
    "Ryan.head()"
   ]
  },
  {
   "cell_type": "code",
   "execution_count": 96,
   "id": "b211355c",
   "metadata": {},
   "outputs": [
    {
     "data": {
      "text/plain": [
       "Four Seam Fastball    42.744135\n",
       "Slider                25.750136\n",
       "Curveball             22.449536\n",
       "Two seam fastball      7.364975\n",
       "Intentional Ball       0.300055\n",
       "Changeup               0.190944\n",
       "Name: pitch_type, dtype: float64"
      ]
     },
     "execution_count": 96,
     "metadata": {},
     "output_type": "execute_result"
    }
   ],
   "source": [
    "#percent of pitch types by him\n",
    "Ryan['pitch_type'].value_counts() / len(Ryan)*100"
   ]
  },
  {
   "cell_type": "code",
   "execution_count": 93,
   "id": "5c1da9ff",
   "metadata": {},
   "outputs": [
    {
     "data": {
      "text/plain": [
       "Strikeout              31.696672\n",
       "Groundout              14.948172\n",
       "Single                 13.966176\n",
       "Flyout                 10.147300\n",
       "Walk                   10.065466\n",
       "Lineout                 4.773595\n",
       "Double                  3.600655\n",
       "Pop Out                 2.482270\n",
       "Home Run                2.209493\n",
       "Forceout                1.418440\n",
       "Intent Walk             1.009274\n",
       "Grounded Into DP        0.818331\n",
       "Field Error             0.818331\n",
       "Sac Fly                 0.436443\n",
       "Hit By Pitch            0.436443\n",
       "Sac Bunt                0.409165\n",
       "Triple                  0.245499\n",
       "Double Play             0.218221\n",
       "Runner Out              0.109111\n",
       "Fielders Choice Out     0.109111\n",
       "Batter Interference     0.081833\n",
       "Name: event, dtype: float64"
      ]
     },
     "execution_count": 93,
     "metadata": {},
     "output_type": "execute_result"
    }
   ],
   "source": [
    "#percent of events that happend off his pitches\n",
    "Ryan['event'].value_counts() / len(Ryan) * 100"
   ]
  },
  {
   "cell_type": "code",
   "execution_count": 94,
   "id": "e3b5ca58",
   "metadata": {},
   "outputs": [
    {
     "data": {
      "image/png": "[encoded data removed]",
      "text/plain": [
       "<Figure size 432x288 with 1 Axes>"
      ]
     },
     "metadata": {
      "needs_background": "light"
     },
     "output_type": "display_data"
    }
   ],
   "source": [
    "Ryan_pressly = sns.lineplot(x=\"inning\", y=\"start_speed\", hue=\"pitch_type\", data=Ryan)"
   ]
  },
  {
   "cell_type": "code",
   "execution_count": 95,
   "id": "9e64c221",
   "metadata": {},
   "outputs": [],
   "source": [
    "#create a seperate varable to pull his name out\n",
    "Justin = master[master['pitcher_name']=='Justin Verlander']"
   ]
  },
  {
   "cell_type": "code",
   "execution_count": 97,
   "id": "3d98b1de",
   "metadata": {},
   "outputs": [
    {
     "data": {
      "text/plain": [
       "Four Seam Fastball    58.681886\n",
       "Slider                19.834258\n",
       "Curveball             15.385818\n",
       "Changeup               5.511688\n",
       "Cutter                 0.265812\n",
       "Two seam fastball      0.093816\n",
       "Intentional Ball       0.046908\n",
       "Pitch Out              0.015636\n",
       "Name: pitch_type, dtype: float64"
      ]
     },
     "execution_count": 97,
     "metadata": {},
     "output_type": "execute_result"
    }
   ],
   "source": [
    "#percent of pitch types by him\n",
    "Justin['pitch_type'].value_counts() / len(Justin)*100"
   ]
  },
  {
   "cell_type": "code",
   "execution_count": 98,
   "id": "3bda22db",
   "metadata": {},
   "outputs": [
    {
     "data": {
      "text/plain": [
       "Strikeout              33.898835\n",
       "Flyout                 12.196075\n",
       "Groundout              11.773904\n",
       "Single                 10.726292\n",
       "Walk                    9.037605\n",
       "Pop Out                 7.231647\n",
       "Lineout                 4.878430\n",
       "Double                  3.283559\n",
       "Home Run                2.603393\n",
       "Grounded Into DP        0.797436\n",
       "Forceout                0.680166\n",
       "Hit By Pitch            0.672348\n",
       "Sac Fly                 0.492534\n",
       "Field Error             0.422172\n",
       "Triple                  0.383082\n",
       "Intent Walk             0.187632\n",
       "Runner Out              0.140724\n",
       "Fielders Choice Out     0.117270\n",
       "Sac Bunt                0.109452\n",
       "Double Play             0.101634\n",
       "Strikeout - DP          0.093816\n",
       "Fielders Choice         0.062544\n",
       "Batter Interference     0.046908\n",
       "Bunt Pop Out            0.039090\n",
       "Bunt Groundout          0.023454\n",
       "Name: event, dtype: float64"
      ]
     },
     "execution_count": 98,
     "metadata": {},
     "output_type": "execute_result"
    }
   ],
   "source": [
    "#percent of events that happend off his pitches\n",
    "Justin['event'].value_counts() / len(Justin) * 100"
   ]
  },
  {
   "cell_type": "code",
   "execution_count": 99,
   "id": "8ff0f32e",
   "metadata": {},
   "outputs": [
    {
     "data": {
      "image/png": "[encoded data removed]",
      "text/plain": [
       "<Figure size 432x288 with 1 Axes>"
      ]
     },
     "metadata": {
      "needs_background": "light"
     },
     "output_type": "display_data"
    }
   ],
   "source": [
    "Justin_Verlander = sns.lineplot(x=\"inning\", y=\"start_speed\", hue=\"pitch_type\", data=Justin)"
   ]
  },
  {
   "cell_type": "code",
   "execution_count": null,
   "id": "7fbb7dcd",
   "metadata": {},
   "outputs": [],
   "source": []
  }
 ],
 "metadata": {
  "kernelspec": {
   "display_name": "Python 3 (ipykernel)",
   "language": "python",
   "name": "python3"
  },
  "language_info": {
   "codemirror_mode": {
    "name": "ipython",
    "version": 3
   },
   "file_extension": ".py",
   "mimetype": "text/x-python",
   "name": "python",
   "nbconvert_exporter": "python",
   "pygments_lexer": "ipython3",
   "version": "3.9.12"
  },
  "toc": {
   "base_numbering": 1,
   "nav_menu": {},
   "number_sections": true,
   "sideBar": true,
   "skip_h1_title": false,
   "title_cell": "Table of Contents",
   "title_sidebar": "Contents",
   "toc_cell": false,
   "toc_position": {},
   "toc_section_display": true,
   "toc_window_display": false
  },
  "varInspector": {
   "cols": {
    "lenName": 16,
    "lenType": 16,
    "lenVar": 40
   },
   "kernels_config": {
    "python": {
     "delete_cmd_postfix": "",
     "delete_cmd_prefix": "del ",
     "library": "var_list.py",
     "varRefreshCmd": "print(var_dic_list())"
    },
    "r": {
     "delete_cmd_postfix": ") ",
     "delete_cmd_prefix": "rm(",
     "library": "var_list.r",
     "varRefreshCmd": "cat(var_dic_list()) "
    }
   },
   "types_to_exclude": [
    "module",
    "function",
    "builtin_function_or_method",
    "instance",
    "_Feature"
   ],
   "window_display": false
  }
 },
 "nbformat": 4,
 "nbformat_minor": 5
}
